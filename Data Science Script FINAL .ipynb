{
 "cells": [
  {
   "cell_type": "code",
   "execution_count": null,
   "metadata": {},
   "outputs": [],
   "source": [
    "#Exploring & Cleaning "
   ]
  },
  {
   "cell_type": "code",
   "execution_count": 1,
   "metadata": {},
   "outputs": [],
   "source": [
    "#Importing Libraries \n",
    "import pandas as pd \n",
    "import matplotlib.pyplot as plt"
   ]
  },
  {
   "cell_type": "code",
   "execution_count": 2,
   "metadata": {},
   "outputs": [],
   "source": [
    "#Importing Data\n",
    "df=pd.read_excel('payroll_tasks.xlsx') "
   ]
  },
  {
   "cell_type": "code",
   "execution_count": 3,
   "metadata": {},
   "outputs": [
    {
     "data": {
      "text/html": [
       "<div>\n",
       "<style scoped>\n",
       "    .dataframe tbody tr th:only-of-type {\n",
       "        vertical-align: middle;\n",
       "    }\n",
       "\n",
       "    .dataframe tbody tr th {\n",
       "        vertical-align: top;\n",
       "    }\n",
       "\n",
       "    .dataframe thead th {\n",
       "        text-align: right;\n",
       "    }\n",
       "</style>\n",
       "<table border=\"1\" class=\"dataframe\">\n",
       "  <thead>\n",
       "    <tr style=\"text-align: right;\">\n",
       "      <th></th>\n",
       "      <th>TEAM</th>\n",
       "      <th>DATE TASK CREATED</th>\n",
       "      <th>DATE TASK COMPLETED</th>\n",
       "      <th>PRIORITY</th>\n",
       "      <th>PROCESS</th>\n",
       "      <th>STAGE</th>\n",
       "    </tr>\n",
       "  </thead>\n",
       "  <tbody>\n",
       "    <tr>\n",
       "      <th>0</th>\n",
       "      <td>PAYROLL TASK</td>\n",
       "      <td>2021-03-16</td>\n",
       "      <td>2021-03-22</td>\n",
       "      <td>4.0</td>\n",
       "      <td>CREATE RECORD</td>\n",
       "      <td>1: CREATE RECORD</td>\n",
       "    </tr>\n",
       "    <tr>\n",
       "      <th>1</th>\n",
       "      <td>PAYROLL TASK</td>\n",
       "      <td>2021-03-19</td>\n",
       "      <td>2021-03-22</td>\n",
       "      <td>4.0</td>\n",
       "      <td>CREATE RECORD</td>\n",
       "      <td>2: AUTHORISATION</td>\n",
       "    </tr>\n",
       "    <tr>\n",
       "      <th>2</th>\n",
       "      <td>PAYROLL TASK</td>\n",
       "      <td>2021-03-18</td>\n",
       "      <td>2021-03-22</td>\n",
       "      <td>4.0</td>\n",
       "      <td>CREATE RECORD</td>\n",
       "      <td>2: AUTHORISATION</td>\n",
       "    </tr>\n",
       "    <tr>\n",
       "      <th>3</th>\n",
       "      <td>PAYROLL TASK</td>\n",
       "      <td>2021-03-22</td>\n",
       "      <td>2021-03-22</td>\n",
       "      <td>4.0</td>\n",
       "      <td>CREATE RECORD</td>\n",
       "      <td>2: AUTHORISATION</td>\n",
       "    </tr>\n",
       "    <tr>\n",
       "      <th>4</th>\n",
       "      <td>PAYROLL TASK</td>\n",
       "      <td>2021-03-22</td>\n",
       "      <td>2021-03-22</td>\n",
       "      <td>4.0</td>\n",
       "      <td>CREATE RECORD</td>\n",
       "      <td>2: AUTHORISATION</td>\n",
       "    </tr>\n",
       "  </tbody>\n",
       "</table>\n",
       "</div>"
      ],
      "text/plain": [
       "           TEAM  DATE TASK CREATED  DATE TASK COMPLETED   PRIORITY   \\\n",
       "0  PAYROLL TASK          2021-03-16           2021-03-22        4.0   \n",
       "1  PAYROLL TASK          2021-03-19           2021-03-22        4.0   \n",
       "2  PAYROLL TASK          2021-03-18           2021-03-22        4.0   \n",
       "3  PAYROLL TASK          2021-03-22           2021-03-22        4.0   \n",
       "4  PAYROLL TASK          2021-03-22           2021-03-22        4.0   \n",
       "\n",
       "          PROCESS               STAGE   \n",
       "0  CREATE RECORD      1: CREATE RECORD  \n",
       "1  CREATE RECORD    2: AUTHORISATION    \n",
       "2  CREATE RECORD    2: AUTHORISATION    \n",
       "3  CREATE RECORD    2: AUTHORISATION    \n",
       "4  CREATE RECORD    2: AUTHORISATION    "
      ]
     },
     "execution_count": 3,
     "metadata": {},
     "output_type": "execute_result"
    }
   ],
   "source": [
    "#Overview of Data \n",
    "df.head()"
   ]
  },
  {
   "cell_type": "code",
   "execution_count": 4,
   "metadata": {},
   "outputs": [
    {
     "data": {
      "text/plain": [
       "(1945, 6)"
      ]
     },
     "execution_count": 4,
     "metadata": {},
     "output_type": "execute_result"
    }
   ],
   "source": [
    "#View number of records and columns \n",
    "df.shape "
   ]
  },
  {
   "cell_type": "code",
   "execution_count": 5,
   "metadata": {},
   "outputs": [],
   "source": [
    "#Delete unneccessary columns \n",
    "df=df.drop(['TEAM ', 'PRIORITY ' ], axis=1) "
   ]
  },
  {
   "cell_type": "code",
   "execution_count": 6,
   "metadata": {},
   "outputs": [
    {
     "data": {
      "text/plain": [
       "DATE TASK CREATED       104\n",
       "DATE TASK COMPLETED      35\n",
       "PROCESS                   4\n",
       "STAGE                     1\n",
       "dtype: int64"
      ]
     },
     "execution_count": 6,
     "metadata": {},
     "output_type": "execute_result"
    }
   ],
   "source": [
    "#Finding null values \n",
    "null_columns=df.columns[df.isnull().any()]\n",
    "df[null_columns].isnull().sum()"
   ]
  },
  {
   "cell_type": "code",
   "execution_count": 7,
   "metadata": {},
   "outputs": [
    {
     "name": "stdout",
     "output_type": "stream",
     "text": [
      "DATE TASK CREATED       5.347044\n",
      "DATE TASK COMPLETED     1.799486\n",
      "PROCESS                 0.205656\n",
      "STAGE                   0.051414\n",
      "dtype: float64\n"
     ]
    }
   ],
   "source": [
    "#What is the percentage of values\n",
    "percent_missing = df.isnull().sum() * 100 / len(df)\n",
    "print(percent_missing)"
   ]
  },
  {
   "cell_type": "code",
   "execution_count": 8,
   "metadata": {},
   "outputs": [],
   "source": [
    "#Putting all records with Date Created as null values together\n",
    "Null_Values1=df[df['DATE TASK CREATED '].isna() ]"
   ]
  },
  {
   "cell_type": "code",
   "execution_count": 9,
   "metadata": {},
   "outputs": [
    {
     "data": {
      "text/plain": [
       "CREATE RECORD               58\n",
       "CHANGE BANK DETAILS         27\n",
       "CHANGE ADDRESS              16\n",
       "END PENSION UPON DEATH       3\n",
       "Name: PROCESS , dtype: int64"
      ]
     },
     "execution_count": 9,
     "metadata": {},
     "output_type": "execute_result"
    }
   ],
   "source": [
    "#Viewing process distribution    \n",
    "Null_Values1['PROCESS '].value_counts()"
   ]
  },
  {
   "cell_type": "code",
   "execution_count": 10,
   "metadata": {},
   "outputs": [
    {
     "data": {
      "text/plain": [
       "2021-03-23    32\n",
       "2021-03-22    31\n",
       "2021-03-24    13\n",
       "2021-03-25     6\n",
       "2021-03-26     6\n",
       "Name: DATE TASK COMPLETED , dtype: int64"
      ]
     },
     "execution_count": 10,
     "metadata": {},
     "output_type": "execute_result"
    }
   ],
   "source": [
    "#Viewing Date Task Completion distribution \n",
    "Null_Values1['DATE TASK COMPLETED '].value_counts()"
   ]
  },
  {
   "cell_type": "code",
   "execution_count": 11,
   "metadata": {},
   "outputs": [],
   "source": [
    "Null_Values2=df[df['DATE TASK COMPLETED '].isna() ]"
   ]
  },
  {
   "cell_type": "code",
   "execution_count": 12,
   "metadata": {},
   "outputs": [
    {
     "data": {
      "text/plain": [
       "END PENSION UPON DEATH      19\n",
       "CHANGE ADDRESS              16\n",
       "Name: PROCESS , dtype: int64"
      ]
     },
     "execution_count": 12,
     "metadata": {},
     "output_type": "execute_result"
    }
   ],
   "source": [
    "Null_Values2['PROCESS '].value_counts()"
   ]
  },
  {
   "cell_type": "code",
   "execution_count": 13,
   "metadata": {},
   "outputs": [
    {
     "data": {
      "text/plain": [
       "2021-02-07    4\n",
       "2021-02-04    3\n",
       "2021-02-01    3\n",
       "2021-02-12    2\n",
       "2021-02-11    2\n",
       "2021-01-30    1\n",
       "2021-02-05    1\n",
       "2021-02-03    1\n",
       "2021-02-02    1\n",
       "2021-02-08    1\n",
       "Name: DATE TASK CREATED , dtype: int64"
      ]
     },
     "execution_count": 13,
     "metadata": {},
     "output_type": "execute_result"
    }
   ],
   "source": [
    "Null_Values2['DATE TASK CREATED '].value_counts() "
   ]
  },
  {
   "cell_type": "code",
   "execution_count": 14,
   "metadata": {},
   "outputs": [],
   "source": [
    "#Using knowledge of time taken to complete processes input value for DATE TASK CREATED  \n",
    "df['DATE TASK CREATED '].fillna('2021-03-22', inplace = True)"
   ]
  },
  {
   "cell_type": "code",
   "execution_count": 15,
   "metadata": {},
   "outputs": [],
   "source": [
    "#Using knowledge of time taken to complete processes input value for DATE TASK CREATED \n",
    "df['DATE TASK COMPLETED '].fillna('2021-03-28', inplace = True)"
   ]
  },
  {
   "cell_type": "code",
   "execution_count": 16,
   "metadata": {},
   "outputs": [
    {
     "data": {
      "text/plain": [
       "PROCESS     4\n",
       "STAGE       1\n",
       "dtype: int64"
      ]
     },
     "execution_count": 16,
     "metadata": {},
     "output_type": "execute_result"
    }
   ],
   "source": [
    "#Checking Null values again \n",
    "null_columns=df.columns[df.isnull().any()]\n",
    "df[null_columns].isnull().sum()"
   ]
  },
  {
   "cell_type": "code",
   "execution_count": 17,
   "metadata": {},
   "outputs": [],
   "source": [
    "#Dropping values \n",
    "df = df.dropna(how='any',axis=0)"
   ]
  },
  {
   "cell_type": "code",
   "execution_count": 18,
   "metadata": {},
   "outputs": [
    {
     "data": {
      "text/plain": [
       "Series([], dtype: float64)"
      ]
     },
     "execution_count": 18,
     "metadata": {},
     "output_type": "execute_result"
    }
   ],
   "source": [
    "#Checking again \n",
    "null_columns=df.columns[df.isnull().any()]\n",
    "df[null_columns].isnull().sum()"
   ]
  },
  {
   "cell_type": "code",
   "execution_count": 19,
   "metadata": {},
   "outputs": [
    {
     "data": {
      "text/plain": [
       "array(['CREATE RECORD  ', 'APPLYING ANNUAL PENSION INCREASE AT 55',\n",
       "       'TAX ENQUIRY', 'END WIDOW / WIDOWER PENSION AFTER REMARRIAGE',\n",
       "       'PAYROLL MISC ENQUIRY', 'ENQUIRY ON END OF PENSION UPON DEATH ',\n",
       "       'CHANGE BANK DETAILS ', 'AWARDS MISC TASK ',\n",
       "       'NOTIFICATION OF CHANGE BY NFI', 'REEMPLOYMENT OF MEMBER ',\n",
       "       'DEPENDENTS PENSION ENQUIRY', 'CHANGE OVERSEAS BANK DETAILS ',\n",
       "       'CHANGE OVERSEAS BANK DETAILS  ', 'CHANGE ADDRESS',\n",
       "       'END PENSION UPON DEATH  ', 'END PENSION UPON DEATH '],\n",
       "      dtype=object)"
      ]
     },
     "execution_count": 19,
     "metadata": {},
     "output_type": "execute_result"
    }
   ],
   "source": [
    "#Exploring unique processes \n",
    "df['PROCESS '].unique()"
   ]
  },
  {
   "cell_type": "code",
   "execution_count": 20,
   "metadata": {},
   "outputs": [],
   "source": [
    "#Merging End Pension Upon Death:are the same but seperated by python because of spacing \n",
    "df=df.replace(['END PENSION UPON DEATH  ','END PENSION UPON DEATH '],'END')"
   ]
  },
  {
   "cell_type": "code",
   "execution_count": 21,
   "metadata": {},
   "outputs": [],
   "source": [
    "#The same for Change Overseas Bank Details\n",
    "df=df.replace(['CHANGE OVERSEAS BANK DETAILS  ','CHANGE OVERSEAS BANK DETAILS '],'OVERSEAS')"
   ]
  },
  {
   "cell_type": "code",
   "execution_count": 22,
   "metadata": {},
   "outputs": [],
   "source": [
    "#Deleting Non Payroll task \n",
    "Delete_Awards = df[ df['PROCESS '] =='AWARDS MISC TASK ' ].index\n",
    "df.drop(Delete_Awards, inplace = True)"
   ]
  },
  {
   "cell_type": "code",
   "execution_count": 23,
   "metadata": {},
   "outputs": [
    {
     "data": {
      "text/plain": [
       "array(['CREATE RECORD  ', 'APPLYING ANNUAL PENSION INCREASE AT 55',\n",
       "       'TAX ENQUIRY', 'END WIDOW / WIDOWER PENSION AFTER REMARRIAGE',\n",
       "       'PAYROLL MISC ENQUIRY', 'ENQUIRY ON END OF PENSION UPON DEATH ',\n",
       "       'CHANGE BANK DETAILS ', 'NOTIFICATION OF CHANGE BY NFI',\n",
       "       'REEMPLOYMENT OF MEMBER ', 'DEPENDENTS PENSION ENQUIRY',\n",
       "       'OVERSEAS', 'CHANGE ADDRESS', 'END'], dtype=object)"
      ]
     },
     "execution_count": 23,
     "metadata": {},
     "output_type": "execute_result"
    }
   ],
   "source": [
    "#Checking Unique Values again\n",
    "df['PROCESS '].unique()"
   ]
  },
  {
   "cell_type": "code",
   "execution_count": 24,
   "metadata": {},
   "outputs": [
    {
     "data": {
      "text/plain": [
       "END                                             1428\n",
       "CREATE RECORD                                    309\n",
       "PAYROLL MISC ENQUIRY                              49\n",
       "TAX ENQUIRY                                       40\n",
       "CHANGE BANK DETAILS                               40\n",
       "CHANGE ADDRESS                                    27\n",
       "DEPENDENTS PENSION ENQUIRY                        14\n",
       "APPLYING ANNUAL PENSION INCREASE AT 55            12\n",
       "ENQUIRY ON END OF PENSION UPON DEATH               7\n",
       "OVERSEAS                                           7\n",
       "END WIDOW / WIDOWER PENSION AFTER REMARRIAGE       3\n",
       "REEMPLOYMENT OF MEMBER                             2\n",
       "NOTIFICATION OF CHANGE BY NFI                      1\n",
       "Name: PROCESS , dtype: int64"
      ]
     },
     "execution_count": 24,
     "metadata": {},
     "output_type": "execute_result"
    }
   ],
   "source": [
    "#Exploring distribution of processes \n",
    "df['PROCESS '].value_counts()"
   ]
  },
  {
   "cell_type": "code",
   "execution_count": 25,
   "metadata": {},
   "outputs": [
    {
     "data": {
      "text/plain": [
       "PROCESS \n",
       "APPLYING ANNUAL PENSION INCREASE AT 55          1\n",
       "CHANGE ADDRESS                                  1\n",
       "CHANGE BANK DETAILS                             2\n",
       "CREATE RECORD                                   7\n",
       "DEPENDENTS PENSION ENQUIRY                      1\n",
       "END                                             5\n",
       "END WIDOW / WIDOWER PENSION AFTER REMARRIAGE    3\n",
       "ENQUIRY ON END OF PENSION UPON DEATH            1\n",
       "NOTIFICATION OF CHANGE BY NFI                   1\n",
       "OVERSEAS                                        1\n",
       "PAYROLL MISC ENQUIRY                            1\n",
       "REEMPLOYMENT OF MEMBER                          1\n",
       "TAX ENQUIRY                                     1\n",
       "Name: STAGE , dtype: int64"
      ]
     },
     "execution_count": 25,
     "metadata": {},
     "output_type": "execute_result"
    }
   ],
   "source": [
    "#Exploring number of  stages in each process\n",
    "Process= df.groupby(['PROCESS '])\n",
    "Process['STAGE '].nunique() "
   ]
  },
  {
   "cell_type": "code",
   "execution_count": 26,
   "metadata": {},
   "outputs": [],
   "source": [
    "#In preparation for creating pie chart put all tasks with small numbers together \n",
    "df=df.replace(['PAYROLL MISC ENQUIRY','TAX ENQUIRY', 'CHANGE BANK DETAILS ','CHANGE ADDRESS',\n",
    "'DEPENDENTS PENSION ENQUIRY','APPLYING ANNUAL PENSION INCREASE AT 55', 'ENQUIRY ON END OF PENSION UPON DEATH ','OVERSEAS',\n",
    "'END WIDOW / WIDOWER PENSION AFTER REMARRIAGE','REEMPLOYMENT OF MEMBER ','NOTIFICATION OF CHANGE BY NFI'],'OTHER')"
   ]
  },
  {
   "cell_type": "code",
   "execution_count": 27,
   "metadata": {},
   "outputs": [
    {
     "data": {
      "text/plain": [
       "END                1428\n",
       "CREATE RECORD       309\n",
       "OTHER               202\n",
       "Name: PROCESS , dtype: int64"
      ]
     },
     "execution_count": 27,
     "metadata": {},
     "output_type": "execute_result"
    }
   ],
   "source": [
    "#Checking \n",
    "df['PROCESS '].value_counts()"
   ]
  },
  {
   "cell_type": "code",
   "execution_count": 28,
   "metadata": {},
   "outputs": [
    {
     "data": {
      "image/png": "[encoded data removed]",
      "text/plain": [
       "<Figure size 432x288 with 1 Axes>"
      ]
     },
     "metadata": {},
     "output_type": "display_data"
    }
   ],
   "source": [
    "#Pie Chart to clearly show the distribution \n",
    "percentage=df['PROCESS '].value_counts(normalize=True)\n",
    "my_labels = 'END','CREATE RECORD ','OTHER'\n",
    "plt.pie(percentage,labels=my_labels,autopct='%1.1f%%')\n",
    "plt.labels=my_labels\n",
    "plt.title('TASK DISTRIBUTION')\n",
    "plt.axis('equal')\n",
    "plt.show() \n"
   ]
  },
  {
   "cell_type": "code",
   "execution_count": 29,
   "metadata": {},
   "outputs": [
    {
     "data": {
      "text/plain": [
       "STAGE \n",
       "1: CREATE RECORD      163\n",
       "2: AUTHORISATION       67\n",
       "1: CREATE RECORD       37\n",
       "2: CREATE RECORD       25\n",
       "2: AUTHORISATION       15\n",
       "1 CREATE RECORD         1\n",
       "11: CREATE RECORD       1\n",
       "Name: STAGE , dtype: int64"
      ]
     },
     "execution_count": 29,
     "metadata": {},
     "output_type": "execute_result"
    }
   ],
   "source": [
    "#END has by far the most but CREATE RECORD was worth exploring as 7 stages is unexpected.\n",
    "#Along with result also take into account 58 records originally had a null value. \n",
    "Process['STAGE '].value_counts().loc['CREATE RECORD  ']"
   ]
  },
  {
   "cell_type": "code",
   "execution_count": 30,
   "metadata": {},
   "outputs": [
    {
     "data": {
      "text/plain": [
       "STAGE \n",
       "2: DOCUMENTS RECEIVED     521\n",
       "5: NOTIFY EXECUTOR        310\n",
       "4: CHECK CALCULATION      281\n",
       "1: NOTIFICATION           172\n",
       "3: CALCULATION            144\n",
       "Name: STAGE , dtype: int64"
      ]
     },
     "execution_count": 30,
     "metadata": {},
     "output_type": "execute_result"
    }
   ],
   "source": [
    "#Exploring END .Has 5 stages.\n",
    "Process['STAGE '].value_counts().loc['END']"
   ]
  },
  {
   "cell_type": "code",
   "execution_count": 31,
   "metadata": {},
   "outputs": [
    {
     "data": {
      "image/png": "[encoded data removed]",
      "text/plain": [
       "<Figure size 432x288 with 1 Axes>"
      ]
     },
     "metadata": {},
     "output_type": "display_data"
    }
   ],
   "source": [
    "#Will focus on these tasks going forward \n",
    "End_Stages=Process['STAGE '].value_counts().loc['END']\n",
    "End_labels = 'DOCUMENTS RECEIVED ','NOTIFY EXECUTOR ','CHECK CALCULATION ','NOTIFICATION ','CALCULATION '\n",
    "plt.pie(End_Stages,labels=End_labels,autopct='%1.1f%%')\n",
    "plt.labels=End_labels\n",
    "plt.title('STAGE DISTRIBUTION OF END')\n",
    "plt.axis('equal')\n",
    "plt.show() "
   ]
  },
  {
   "cell_type": "code",
   "execution_count": 32,
   "metadata": {},
   "outputs": [],
   "source": [
    "#Saving to flie for next stage \n",
    "EP=df.loc[df['PROCESS '] == 'END']\n",
    "EP.to_excel('End.xlsx',index=False) "
   ]
  },
  {
   "cell_type": "code",
   "execution_count": null,
   "metadata": {},
   "outputs": [],
   "source": [
    "#Feature Egineering "
   ]
  },
  {
   "cell_type": "code",
   "execution_count": 33,
   "metadata": {},
   "outputs": [],
   "source": [
    "#Importing Libraries \n",
    "import matplotlib.pyplot as plt\n",
    "import pandas as pd"
   ]
  },
  {
   "cell_type": "code",
   "execution_count": 34,
   "metadata": {},
   "outputs": [],
   "source": [
    "#Importing file \n",
    "df=pd.read_excel('End.xlsx')"
   ]
  },
  {
   "cell_type": "code",
   "execution_count": 35,
   "metadata": {},
   "outputs": [
    {
     "data": {
      "text/plain": [
       "(1428, 4)"
      ]
     },
     "execution_count": 35,
     "metadata": {},
     "output_type": "execute_result"
    }
   ],
   "source": [
    "#View number of records and columns \n",
    "df.shape "
   ]
  },
  {
   "cell_type": "code",
   "execution_count": 36,
   "metadata": {},
   "outputs": [
    {
     "data": {
      "text/html": [
       "<div>\n",
       "<style scoped>\n",
       "    .dataframe tbody tr th:only-of-type {\n",
       "        vertical-align: middle;\n",
       "    }\n",
       "\n",
       "    .dataframe tbody tr th {\n",
       "        vertical-align: top;\n",
       "    }\n",
       "\n",
       "    .dataframe thead th {\n",
       "        text-align: right;\n",
       "    }\n",
       "</style>\n",
       "<table border=\"1\" class=\"dataframe\">\n",
       "  <thead>\n",
       "    <tr style=\"text-align: right;\">\n",
       "      <th></th>\n",
       "      <th>DATE TASK CREATED</th>\n",
       "      <th>DATE TASK COMPLETED</th>\n",
       "      <th>PROCESS</th>\n",
       "      <th>STAGE</th>\n",
       "    </tr>\n",
       "  </thead>\n",
       "  <tbody>\n",
       "    <tr>\n",
       "      <th>0</th>\n",
       "      <td>2021-03-21</td>\n",
       "      <td>2021-03-22</td>\n",
       "      <td>END</td>\n",
       "      <td>1: NOTIFICATION</td>\n",
       "    </tr>\n",
       "    <tr>\n",
       "      <th>1</th>\n",
       "      <td>2021-03-22</td>\n",
       "      <td>2021-03-22</td>\n",
       "      <td>END</td>\n",
       "      <td>1: NOTIFICATION</td>\n",
       "    </tr>\n",
       "    <tr>\n",
       "      <th>2</th>\n",
       "      <td>2021-03-22</td>\n",
       "      <td>2021-03-22</td>\n",
       "      <td>END</td>\n",
       "      <td>1: NOTIFICATION</td>\n",
       "    </tr>\n",
       "    <tr>\n",
       "      <th>3</th>\n",
       "      <td>2021-03-22</td>\n",
       "      <td>2021-03-23</td>\n",
       "      <td>END</td>\n",
       "      <td>1: NOTIFICATION</td>\n",
       "    </tr>\n",
       "    <tr>\n",
       "      <th>4</th>\n",
       "      <td>2021-03-22</td>\n",
       "      <td>2021-03-23</td>\n",
       "      <td>END</td>\n",
       "      <td>1: NOTIFICATION</td>\n",
       "    </tr>\n",
       "  </tbody>\n",
       "</table>\n",
       "</div>"
      ],
      "text/plain": [
       "  DATE TASK CREATED  DATE TASK COMPLETED  PROCESS            STAGE \n",
       "0         2021-03-21           2021-03-22      END  1: NOTIFICATION\n",
       "1         2021-03-22           2021-03-22      END  1: NOTIFICATION\n",
       "2         2021-03-22           2021-03-22      END  1: NOTIFICATION\n",
       "3         2021-03-22           2021-03-23      END  1: NOTIFICATION\n",
       "4         2021-03-22           2021-03-23      END  1: NOTIFICATION"
      ]
     },
     "execution_count": 36,
     "metadata": {},
     "output_type": "execute_result"
    }
   ],
   "source": [
    "#Overview\n",
    "df.head() "
   ]
  },
  {
   "cell_type": "code",
   "execution_count": 37,
   "metadata": {},
   "outputs": [],
   "source": [
    "#Creating column with just number from STAGE \n",
    "df['STAGE NO'] = (df['STAGE '].str.split(':').str[0]) "
   ]
  },
  {
   "cell_type": "code",
   "execution_count": 38,
   "metadata": {},
   "outputs": [
    {
     "data": {
      "text/html": [
       "<div>\n",
       "<style scoped>\n",
       "    .dataframe tbody tr th:only-of-type {\n",
       "        vertical-align: middle;\n",
       "    }\n",
       "\n",
       "    .dataframe tbody tr th {\n",
       "        vertical-align: top;\n",
       "    }\n",
       "\n",
       "    .dataframe thead th {\n",
       "        text-align: right;\n",
       "    }\n",
       "</style>\n",
       "<table border=\"1\" class=\"dataframe\">\n",
       "  <thead>\n",
       "    <tr style=\"text-align: right;\">\n",
       "      <th></th>\n",
       "      <th>DATE TASK CREATED</th>\n",
       "      <th>DATE TASK COMPLETED</th>\n",
       "      <th>PROCESS</th>\n",
       "      <th>STAGE</th>\n",
       "      <th>STAGE NO</th>\n",
       "    </tr>\n",
       "  </thead>\n",
       "  <tbody>\n",
       "    <tr>\n",
       "      <th>0</th>\n",
       "      <td>2021-03-21</td>\n",
       "      <td>2021-03-22</td>\n",
       "      <td>END</td>\n",
       "      <td>1: NOTIFICATION</td>\n",
       "      <td>1</td>\n",
       "    </tr>\n",
       "    <tr>\n",
       "      <th>1</th>\n",
       "      <td>2021-03-22</td>\n",
       "      <td>2021-03-22</td>\n",
       "      <td>END</td>\n",
       "      <td>1: NOTIFICATION</td>\n",
       "      <td>1</td>\n",
       "    </tr>\n",
       "    <tr>\n",
       "      <th>2</th>\n",
       "      <td>2021-03-22</td>\n",
       "      <td>2021-03-22</td>\n",
       "      <td>END</td>\n",
       "      <td>1: NOTIFICATION</td>\n",
       "      <td>1</td>\n",
       "    </tr>\n",
       "    <tr>\n",
       "      <th>3</th>\n",
       "      <td>2021-03-22</td>\n",
       "      <td>2021-03-23</td>\n",
       "      <td>END</td>\n",
       "      <td>1: NOTIFICATION</td>\n",
       "      <td>1</td>\n",
       "    </tr>\n",
       "    <tr>\n",
       "      <th>4</th>\n",
       "      <td>2021-03-22</td>\n",
       "      <td>2021-03-23</td>\n",
       "      <td>END</td>\n",
       "      <td>1: NOTIFICATION</td>\n",
       "      <td>1</td>\n",
       "    </tr>\n",
       "  </tbody>\n",
       "</table>\n",
       "</div>"
      ],
      "text/plain": [
       "  DATE TASK CREATED  DATE TASK COMPLETED  PROCESS            STAGE  STAGE NO\n",
       "0         2021-03-21           2021-03-22      END  1: NOTIFICATION        1\n",
       "1         2021-03-22           2021-03-22      END  1: NOTIFICATION        1\n",
       "2         2021-03-22           2021-03-22      END  1: NOTIFICATION        1\n",
       "3         2021-03-22           2021-03-23      END  1: NOTIFICATION        1\n",
       "4         2021-03-22           2021-03-23      END  1: NOTIFICATION        1"
      ]
     },
     "execution_count": 38,
     "metadata": {},
     "output_type": "execute_result"
    }
   ],
   "source": [
    "#Checking \n",
    "df.head() "
   ]
  },
  {
   "cell_type": "code",
   "execution_count": 39,
   "metadata": {},
   "outputs": [
    {
     "data": {
      "text/plain": [
       "2021-03-21    97\n",
       "2021-02-04    52\n",
       "2021-03-22    50\n",
       "2021-01-29    45\n",
       "2021-03-23    43\n",
       "2021-02-12    41\n",
       "2021-03-24    41\n",
       "2021-01-28    41\n",
       "2021-01-31    39\n",
       "2021-02-02    39\n",
       "2021-01-30    39\n",
       "2021-03-16    39\n",
       "2021-02-07    37\n",
       "2021-02-10    36\n",
       "2021-02-14    35\n",
       "2021-02-03    35\n",
       "2021-03-10    35\n",
       "2021-03-13    34\n",
       "2021-02-08    33\n",
       "2021-02-06    33\n",
       "2021-02-05    32\n",
       "2021-03-15    31\n",
       "2021-03-08    31\n",
       "2021-03-07    30\n",
       "2021-03-06    30\n",
       "2021-02-11    30\n",
       "2021-03-19    29\n",
       "2021-02-09    28\n",
       "2021-02-01    28\n",
       "2021-03-11    27\n",
       "2021-03-18    27\n",
       "2021-03-09    26\n",
       "2021-02-19    24\n",
       "2021-02-17    24\n",
       "2021-03-20    23\n",
       "2021-02-15    21\n",
       "2021-02-18    21\n",
       "2021-03-05    20\n",
       "2021-03-14    20\n",
       "2021-03-17    19\n",
       "2021-03-12    19\n",
       "2021-02-16    17\n",
       "2021-03-25    15\n",
       "2021-03-26     8\n",
       "2021-03-27     4\n",
       "Name: DATE TASK CREATED , dtype: int64"
      ]
     },
     "execution_count": 39,
     "metadata": {},
     "output_type": "execute_result"
    }
   ],
   "source": [
    "#Big distribution of DATE TASK COMPLETED \n",
    "df['DATE TASK CREATED '].value_counts()"
   ]
  },
  {
   "cell_type": "code",
   "execution_count": 40,
   "metadata": {},
   "outputs": [
    {
     "data": {
      "text/plain": [
       "2021-03-24    352\n",
       "2021-03-25    288\n",
       "2021-03-27    182\n",
       "2021-03-22    180\n",
       "2021-03-26    147\n",
       "2021-03-23    140\n",
       "2021-03-28    139\n",
       "Name: DATE TASK COMPLETED , dtype: int64"
      ]
     },
     "execution_count": 40,
     "metadata": {},
     "output_type": "execute_result"
    }
   ],
   "source": [
    "#Compared to TASK COMPLETED \n",
    "df['DATE TASK COMPLETED '].value_counts()"
   ]
  },
  {
   "cell_type": "code",
   "execution_count": 41,
   "metadata": {},
   "outputs": [
    {
     "name": "stdout",
     "output_type": "stream",
     "text": [
      "DATE TASK CREATED       datetime64[ns]\n",
      "DATE TASK COMPLETED     datetime64[ns]\n",
      "PROCESS                         object\n",
      "STAGE                           object\n",
      "STAGE NO                        object\n",
      "dtype: object\n"
     ]
    }
   ],
   "source": [
    "#Checking dates in datetime mode for calculation \n",
    "print (df.dtypes)"
   ]
  },
  {
   "cell_type": "code",
   "execution_count": 42,
   "metadata": {},
   "outputs": [],
   "source": [
    "#Creating the date column \n",
    "df['DAYS'] = (df['DATE TASK COMPLETED '] - df['DATE TASK CREATED ']).dt.days"
   ]
  },
  {
   "cell_type": "code",
   "execution_count": 43,
   "metadata": {},
   "outputs": [
    {
     "data": {
      "text/html": [
       "<div>\n",
       "<style scoped>\n",
       "    .dataframe tbody tr th:only-of-type {\n",
       "        vertical-align: middle;\n",
       "    }\n",
       "\n",
       "    .dataframe tbody tr th {\n",
       "        vertical-align: top;\n",
       "    }\n",
       "\n",
       "    .dataframe thead th {\n",
       "        text-align: right;\n",
       "    }\n",
       "</style>\n",
       "<table border=\"1\" class=\"dataframe\">\n",
       "  <thead>\n",
       "    <tr style=\"text-align: right;\">\n",
       "      <th></th>\n",
       "      <th>DATE TASK CREATED</th>\n",
       "      <th>DATE TASK COMPLETED</th>\n",
       "      <th>PROCESS</th>\n",
       "      <th>STAGE</th>\n",
       "      <th>STAGE NO</th>\n",
       "      <th>DAYS</th>\n",
       "    </tr>\n",
       "  </thead>\n",
       "  <tbody>\n",
       "    <tr>\n",
       "      <th>0</th>\n",
       "      <td>2021-03-21</td>\n",
       "      <td>2021-03-22</td>\n",
       "      <td>END</td>\n",
       "      <td>1: NOTIFICATION</td>\n",
       "      <td>1</td>\n",
       "      <td>1</td>\n",
       "    </tr>\n",
       "    <tr>\n",
       "      <th>1</th>\n",
       "      <td>2021-03-22</td>\n",
       "      <td>2021-03-22</td>\n",
       "      <td>END</td>\n",
       "      <td>1: NOTIFICATION</td>\n",
       "      <td>1</td>\n",
       "      <td>0</td>\n",
       "    </tr>\n",
       "    <tr>\n",
       "      <th>2</th>\n",
       "      <td>2021-03-22</td>\n",
       "      <td>2021-03-22</td>\n",
       "      <td>END</td>\n",
       "      <td>1: NOTIFICATION</td>\n",
       "      <td>1</td>\n",
       "      <td>0</td>\n",
       "    </tr>\n",
       "    <tr>\n",
       "      <th>3</th>\n",
       "      <td>2021-03-22</td>\n",
       "      <td>2021-03-23</td>\n",
       "      <td>END</td>\n",
       "      <td>1: NOTIFICATION</td>\n",
       "      <td>1</td>\n",
       "      <td>1</td>\n",
       "    </tr>\n",
       "    <tr>\n",
       "      <th>4</th>\n",
       "      <td>2021-03-22</td>\n",
       "      <td>2021-03-23</td>\n",
       "      <td>END</td>\n",
       "      <td>1: NOTIFICATION</td>\n",
       "      <td>1</td>\n",
       "      <td>1</td>\n",
       "    </tr>\n",
       "  </tbody>\n",
       "</table>\n",
       "</div>"
      ],
      "text/plain": [
       "  DATE TASK CREATED  DATE TASK COMPLETED  PROCESS            STAGE  STAGE NO  \\\n",
       "0         2021-03-21           2021-03-22      END  1: NOTIFICATION        1   \n",
       "1         2021-03-22           2021-03-22      END  1: NOTIFICATION        1   \n",
       "2         2021-03-22           2021-03-22      END  1: NOTIFICATION        1   \n",
       "3         2021-03-22           2021-03-23      END  1: NOTIFICATION        1   \n",
       "4         2021-03-22           2021-03-23      END  1: NOTIFICATION        1   \n",
       "\n",
       "   DAYS  \n",
       "0     1  \n",
       "1     0  \n",
       "2     0  \n",
       "3     1  \n",
       "4     1  "
      ]
     },
     "execution_count": 43,
     "metadata": {},
     "output_type": "execute_result"
    }
   ],
   "source": [
    "#Checking \n",
    "df.head() "
   ]
  },
  {
   "cell_type": "code",
   "execution_count": 44,
   "metadata": {},
   "outputs": [],
   "source": [
    "#Dropping now unneccessary columns from dataframe   \n",
    "df.drop(['DATE TASK CREATED ', 'DATE TASK COMPLETED ','PROCESS ','STAGE ' ], axis=1,inplace = True )"
   ]
  },
  {
   "cell_type": "code",
   "execution_count": 45,
   "metadata": {},
   "outputs": [
    {
     "data": {
      "text/html": [
       "<div>\n",
       "<style scoped>\n",
       "    .dataframe tbody tr th:only-of-type {\n",
       "        vertical-align: middle;\n",
       "    }\n",
       "\n",
       "    .dataframe tbody tr th {\n",
       "        vertical-align: top;\n",
       "    }\n",
       "\n",
       "    .dataframe thead th {\n",
       "        text-align: right;\n",
       "    }\n",
       "</style>\n",
       "<table border=\"1\" class=\"dataframe\">\n",
       "  <thead>\n",
       "    <tr style=\"text-align: right;\">\n",
       "      <th></th>\n",
       "      <th>STAGE NO</th>\n",
       "      <th>DAYS</th>\n",
       "    </tr>\n",
       "  </thead>\n",
       "  <tbody>\n",
       "    <tr>\n",
       "      <th>0</th>\n",
       "      <td>1</td>\n",
       "      <td>1</td>\n",
       "    </tr>\n",
       "    <tr>\n",
       "      <th>1</th>\n",
       "      <td>1</td>\n",
       "      <td>0</td>\n",
       "    </tr>\n",
       "    <tr>\n",
       "      <th>2</th>\n",
       "      <td>1</td>\n",
       "      <td>0</td>\n",
       "    </tr>\n",
       "    <tr>\n",
       "      <th>3</th>\n",
       "      <td>1</td>\n",
       "      <td>1</td>\n",
       "    </tr>\n",
       "    <tr>\n",
       "      <th>4</th>\n",
       "      <td>1</td>\n",
       "      <td>1</td>\n",
       "    </tr>\n",
       "  </tbody>\n",
       "</table>\n",
       "</div>"
      ],
      "text/plain": [
       "  STAGE NO  DAYS\n",
       "0        1     1\n",
       "1        1     0\n",
       "2        1     0\n",
       "3        1     1\n",
       "4        1     1"
      ]
     },
     "execution_count": 45,
     "metadata": {},
     "output_type": "execute_result"
    }
   ],
   "source": [
    "#New Dataframe \n",
    "df.head() "
   ]
  },
  {
   "cell_type": "code",
   "execution_count": 46,
   "metadata": {},
   "outputs": [
    {
     "data": {
      "text/plain": [
       "STAGE NO\n",
       "1                                         [1, 0, 2, 3]\n",
       "2    [1, 15, 12, 17, 6, 2, 14, 7, 3, 10, 9, 18, 5, ...\n",
       "3    [0, 34, 31, 32, 33, 37, 39, 35, 40, 42, 38, 36...\n",
       "4    [47, 50, 48, 45, 46, 55, 42, 0, 43, 41, 44, 1,...\n",
       "5    [54, 45, 53, 57, 44, 55, 46, 43, 47, 40, 52, 4...\n",
       "Name: DAYS, dtype: object"
      ]
     },
     "execution_count": 46,
     "metadata": {},
     "output_type": "execute_result"
    }
   ],
   "source": [
    "#Days taken at each stage \n",
    "df.groupby('STAGE NO')['DAYS'].unique()"
   ]
  },
  {
   "cell_type": "code",
   "execution_count": 47,
   "metadata": {},
   "outputs": [
    {
     "data": {
      "text/plain": [
       "<matplotlib.legend.Legend at 0x25ce57421c0>"
      ]
     },
     "execution_count": 47,
     "metadata": {},
     "output_type": "execute_result"
    },
    {
     "data": {
      "image/png": "[encoded data removed]",
      "text/plain": [
       "<Figure size 432x288 with 1 Axes>"
      ]
     },
     "metadata": {
      "needs_background": "light"
     },
     "output_type": "display_data"
    }
   ],
   "source": [
    "#Creating a scatter diagram showing the number of days til completion of each stage from notication of death \n",
    "Stage_1=df['STAGE NO']=='1'\n",
    "Stage_2=df['STAGE NO']=='2'\n",
    "Stage_3=df['STAGE NO']=='3'\n",
    "Stage_4=df['STAGE NO']=='4'\n",
    "Stage_5=df['STAGE NO']=='5'\n",
    "\n",
    "\n",
    "\n",
    "fig, ax1 = plt.subplots()\n",
    "\n",
    "ax1.scatter(df[Stage_1]['STAGE NO'], df[Stage_1]['DAYS'],color='r',label='1')\n",
    "ax1.scatter(df[Stage_2]['STAGE NO'], df[Stage_2]['DAYS'],color='g',label='2')\n",
    "ax1.scatter(df[Stage_3]['STAGE NO'], df[Stage_3]['DAYS'],color='b',label='3')\n",
    "ax1.scatter(df[Stage_4]['STAGE NO'], df[Stage_4]['DAYS'],color='r',label='4')\n",
    "ax1.scatter(df[Stage_5]['STAGE NO'], df[Stage_5]['DAYS'],color='g',label='5')\n",
    "ax1.set_title(' STAGES OF DEATH')\n",
    "ax1.set_xlabel('Stage')\n",
    "ax1.set_ylabel('Days')\n",
    "ax1.legend() "
   ]
  },
  {
   "cell_type": "code",
   "execution_count": 48,
   "metadata": {},
   "outputs": [
    {
     "data": {
      "text/plain": [
       "Text(0.04, 0.5, 'Frequency')"
      ]
     },
     "execution_count": 48,
     "metadata": {},
     "output_type": "execute_result"
    },
    {
     "data": {
      "image/png": "[encoded data removed]",
      "text/plain": [
       "<Figure size 432x288 with 1 Axes>"
      ]
     },
     "metadata": {
      "needs_background": "light"
     },
     "output_type": "display_data"
    }
   ],
   "source": [
    "#Creating a histogram for each stage to see the distribution more clearly \n",
    "fig, axes1 = plt.subplots()\n",
    "S1=df.loc[df['STAGE NO'] == '1']\n",
    "S1.hist(color = \"r\",ax=axes1)  \n",
    "plt.suptitle('STAGE 1')\n",
    "fig.text(0.5, 0.04, 'Days', ha='center')\n",
    "fig.text(0.04, 0.5, 'Frequency', va='center', rotation='vertical')"
   ]
  },
  {
   "cell_type": "code",
   "execution_count": 49,
   "metadata": {},
   "outputs": [
    {
     "data": {
      "text/plain": [
       "Text(0.04, 0.5, 'Frequency')"
      ]
     },
     "execution_count": 49,
     "metadata": {},
     "output_type": "execute_result"
    },
    {
     "data": {
      "image/png": "[encoded data removed]",
      "text/plain": [
       "<Figure size 432x288 with 1 Axes>"
      ]
     },
     "metadata": {
      "needs_background": "light"
     },
     "output_type": "display_data"
    }
   ],
   "source": [
    "fig, axes2 = plt.subplots()\n",
    "S2=df.loc[df['STAGE NO'] == '2']\n",
    "S2.hist(color = \"g\",ax=axes2) \n",
    "plt.suptitle('STAGE 2')\n",
    "fig.text(0.5, 0.04, 'Days', ha='center')\n",
    "fig.text(0.04, 0.5, 'Frequency', va='center', rotation='vertical')  "
   ]
  },
  {
   "cell_type": "code",
   "execution_count": 50,
   "metadata": {},
   "outputs": [
    {
     "data": {
      "text/plain": [
       "Text(0.04, 0.5, 'Frequency')"
      ]
     },
     "execution_count": 50,
     "metadata": {},
     "output_type": "execute_result"
    },
    {
     "data": {
      "image/png": "[encoded data removed]",
      "text/plain": [
       "<Figure size 432x288 with 1 Axes>"
      ]
     },
     "metadata": {
      "needs_background": "light"
     },
     "output_type": "display_data"
    }
   ],
   "source": [
    "fig, axes3 = plt.subplots()\n",
    "S3=df.loc[df['STAGE NO'] == '3']\n",
    "S3.hist(color = \"b\",ax=axes3) \n",
    "plt.suptitle('STAGE 3')\n",
    "fig.text(0.5, 0.04, 'Days', ha='center')\n",
    "fig.text(0.04, 0.5, 'Frequency', va='center', rotation='vertical')"
   ]
  },
  {
   "cell_type": "code",
   "execution_count": 51,
   "metadata": {},
   "outputs": [],
   "source": [
    "#Deleting Outliers \n",
    "Outliers_3 = df[ (df['DAYS'] <25) & (df['STAGE NO'] == '3')].index\n",
    "df.drop(Outliers_3, inplace = True)"
   ]
  },
  {
   "cell_type": "code",
   "execution_count": 52,
   "metadata": {},
   "outputs": [
    {
     "data": {
      "text/plain": [
       "Text(0.04, 0.5, 'Frequency')"
      ]
     },
     "execution_count": 52,
     "metadata": {},
     "output_type": "execute_result"
    },
    {
     "data": {
      "image/png": "[encoded data removed]",
      "text/plain": [
       "<Figure size 432x288 with 1 Axes>"
      ]
     },
     "metadata": {
      "needs_background": "light"
     },
     "output_type": "display_data"
    }
   ],
   "source": [
    "#Viewing again  \n",
    "fig, axes3 = plt.subplots()\n",
    "S3=df.loc[df['STAGE NO'] == '3']\n",
    "S3.hist(color = \"b\",ax=axes3) \n",
    "plt.suptitle('STAGE 3')\n",
    "fig.text(0.5, 0.04, 'Days', ha='center')\n",
    "fig.text(0.04, 0.5, 'Frequency', va='center', rotation='vertical')"
   ]
  },
  {
   "cell_type": "code",
   "execution_count": 53,
   "metadata": {},
   "outputs": [
    {
     "data": {
      "text/plain": [
       "Text(0.04, 0.5, 'Frequency')"
      ]
     },
     "execution_count": 53,
     "metadata": {},
     "output_type": "execute_result"
    },
    {
     "data": {
      "image/png": "[encoded data removed]",
      "text/plain": [
       "<Figure size 432x288 with 1 Axes>"
      ]
     },
     "metadata": {
      "needs_background": "light"
     },
     "output_type": "display_data"
    }
   ],
   "source": [
    "fig, axes4 = plt.subplots()\n",
    "S4=df.loc[df['STAGE NO'] == '4']\n",
    "S4.hist(color = \"r\",ax=axes4) \n",
    "plt.suptitle('STAGE 4')\n",
    "fig.text(0.5, 0.04, 'Days', ha='center')\n",
    "fig.text(0.04, 0.5, 'Frequency', va='center', rotation='vertical')"
   ]
  },
  {
   "cell_type": "code",
   "execution_count": 54,
   "metadata": {},
   "outputs": [],
   "source": [
    "Outliers_4 = df[ (df['DAYS'] <25) & (df['STAGE NO'] == '4')].index\n",
    "df.drop(Outliers_4, inplace = True)"
   ]
  },
  {
   "cell_type": "code",
   "execution_count": 55,
   "metadata": {},
   "outputs": [
    {
     "data": {
      "text/plain": [
       "Text(0.04, 0.5, 'Frequency')"
      ]
     },
     "execution_count": 55,
     "metadata": {},
     "output_type": "execute_result"
    },
    {
     "data": {
      "image/png": "[encoded data removed]",
      "text/plain": [
       "<Figure size 432x288 with 1 Axes>"
      ]
     },
     "metadata": {
      "needs_background": "light"
     },
     "output_type": "display_data"
    }
   ],
   "source": [
    "fig, axes4 = plt.subplots()\n",
    "S4=df.loc[df['STAGE NO'] == '4']\n",
    "S4.hist(color = \"r\",ax=axes4) \n",
    "plt.suptitle('STAGE 4')\n",
    "fig.text(0.5, 0.04, 'Days', ha='center')\n",
    "fig.text(0.04, 0.5, 'Frequency', va='center', rotation='vertical')"
   ]
  },
  {
   "cell_type": "code",
   "execution_count": 56,
   "metadata": {},
   "outputs": [
    {
     "data": {
      "text/plain": [
       "Text(0.04, 0.5, 'Frequency')"
      ]
     },
     "execution_count": 56,
     "metadata": {},
     "output_type": "execute_result"
    },
    {
     "data": {
      "image/png": "[encoded data removed]",
      "text/plain": [
       "<Figure size 432x288 with 1 Axes>"
      ]
     },
     "metadata": {
      "needs_background": "light"
     },
     "output_type": "display_data"
    }
   ],
   "source": [
    "fig, axes5 = plt.subplots()\n",
    "S5=df.loc[df['STAGE NO'] == '5']\n",
    "S5.hist(color = \"g\",ax=axes5) \n",
    "plt.suptitle('STAGE 5')\n",
    "fig.text(0.5, 0.04,'Days', ha='center')\n",
    "fig.text(0.04, 0.5,'Frequency', va='center', rotation='vertical')"
   ]
  },
  {
   "cell_type": "code",
   "execution_count": 57,
   "metadata": {},
   "outputs": [
    {
     "name": "stdout",
     "output_type": "stream",
     "text": [
      "STAGE NO    object\n",
      "DAYS         int64\n",
      "dtype: object\n"
     ]
    }
   ],
   "source": [
    "#Checking\n",
    "print(df.dtypes) "
   ]
  },
  {
   "cell_type": "code",
   "execution_count": 58,
   "metadata": {},
   "outputs": [],
   "source": [
    " #Changing Stage No to numeric  \n",
    "df['STAGE NO'] = pd.to_numeric(df['STAGE NO'])"
   ]
  },
  {
   "cell_type": "code",
   "execution_count": 59,
   "metadata": {},
   "outputs": [],
   "source": [
    "#Saving Data to Excel for next stage \n",
    "df.to_excel('Data.xlsx',index=False) "
   ]
  },
  {
   "cell_type": "code",
   "execution_count": null,
   "metadata": {},
   "outputs": [],
   "source": [
    "#Lineawr Regression "
   ]
  },
  {
   "cell_type": "code",
   "execution_count": 60,
   "metadata": {},
   "outputs": [],
   "source": [
    "#Importing Libraries \n",
    "import pandas as pd\n",
    "import seaborn as sns\n",
    "import numpy as np\n",
    "from sklearn.model_selection import train_test_split\n",
    "from sklearn.linear_model import LinearRegression\n",
    "from sklearn.metrics import mean_absolute_error\n",
    "from sklearn.metrics import mean_squared_error\n",
    "from sklearn.metrics import r2_score"
   ]
  },
  {
   "cell_type": "code",
   "execution_count": 61,
   "metadata": {},
   "outputs": [],
   "source": [
    "#Importing file \n",
    "df=pd.read_excel('Data.xlsx')"
   ]
  },
  {
   "cell_type": "code",
   "execution_count": 62,
   "metadata": {},
   "outputs": [
    {
     "data": {
      "text/html": [
       "<div>\n",
       "<style scoped>\n",
       "    .dataframe tbody tr th:only-of-type {\n",
       "        vertical-align: middle;\n",
       "    }\n",
       "\n",
       "    .dataframe tbody tr th {\n",
       "        vertical-align: top;\n",
       "    }\n",
       "\n",
       "    .dataframe thead th {\n",
       "        text-align: right;\n",
       "    }\n",
       "</style>\n",
       "<table border=\"1\" class=\"dataframe\">\n",
       "  <thead>\n",
       "    <tr style=\"text-align: right;\">\n",
       "      <th></th>\n",
       "      <th>STAGE NO</th>\n",
       "      <th>DAYS</th>\n",
       "    </tr>\n",
       "  </thead>\n",
       "  <tbody>\n",
       "    <tr>\n",
       "      <th>0</th>\n",
       "      <td>1</td>\n",
       "      <td>1</td>\n",
       "    </tr>\n",
       "    <tr>\n",
       "      <th>1</th>\n",
       "      <td>1</td>\n",
       "      <td>0</td>\n",
       "    </tr>\n",
       "    <tr>\n",
       "      <th>2</th>\n",
       "      <td>1</td>\n",
       "      <td>0</td>\n",
       "    </tr>\n",
       "    <tr>\n",
       "      <th>3</th>\n",
       "      <td>1</td>\n",
       "      <td>1</td>\n",
       "    </tr>\n",
       "    <tr>\n",
       "      <th>4</th>\n",
       "      <td>1</td>\n",
       "      <td>1</td>\n",
       "    </tr>\n",
       "  </tbody>\n",
       "</table>\n",
       "</div>"
      ],
      "text/plain": [
       "   STAGE NO  DAYS\n",
       "0         1     1\n",
       "1         1     0\n",
       "2         1     0\n",
       "3         1     1\n",
       "4         1     1"
      ]
     },
     "execution_count": 62,
     "metadata": {},
     "output_type": "execute_result"
    }
   ],
   "source": [
    "#Overview\n",
    "df.head() "
   ]
  },
  {
   "cell_type": "code",
   "execution_count": 63,
   "metadata": {},
   "outputs": [],
   "source": [
    "# Defining X\n",
    "X = df[['STAGE NO']] \n",
    "\n",
    "# Definng Y\n",
    "y = df[['DAYS']] "
   ]
  },
  {
   "cell_type": "code",
   "execution_count": 64,
   "metadata": {},
   "outputs": [],
   "source": [
    "# Spliting X and Y into training and testing sets\n",
    "X_train, X_test, y_train, y_test = train_test_split(X,y,test_size=0.20,random_state=0)"
   ]
  },
  {
   "cell_type": "code",
   "execution_count": 65,
   "metadata": {},
   "outputs": [
    {
     "data": {
      "text/html": [
       "<div>\n",
       "<style scoped>\n",
       "    .dataframe tbody tr th:only-of-type {\n",
       "        vertical-align: middle;\n",
       "    }\n",
       "\n",
       "    .dataframe tbody tr th {\n",
       "        vertical-align: top;\n",
       "    }\n",
       "\n",
       "    .dataframe thead th {\n",
       "        text-align: right;\n",
       "    }\n",
       "</style>\n",
       "<table border=\"1\" class=\"dataframe\">\n",
       "  <thead>\n",
       "    <tr style=\"text-align: right;\">\n",
       "      <th></th>\n",
       "      <th>STAGE NO</th>\n",
       "    </tr>\n",
       "  </thead>\n",
       "  <tbody>\n",
       "    <tr>\n",
       "      <th>1044</th>\n",
       "      <td>4</td>\n",
       "    </tr>\n",
       "    <tr>\n",
       "      <th>393</th>\n",
       "      <td>2</td>\n",
       "    </tr>\n",
       "    <tr>\n",
       "      <th>1338</th>\n",
       "      <td>5</td>\n",
       "    </tr>\n",
       "    <tr>\n",
       "      <th>1282</th>\n",
       "      <td>5</td>\n",
       "    </tr>\n",
       "    <tr>\n",
       "      <th>141</th>\n",
       "      <td>1</td>\n",
       "    </tr>\n",
       "    <tr>\n",
       "      <th>...</th>\n",
       "      <td>...</td>\n",
       "    </tr>\n",
       "    <tr>\n",
       "      <th>408</th>\n",
       "      <td>2</td>\n",
       "    </tr>\n",
       "    <tr>\n",
       "      <th>1302</th>\n",
       "      <td>5</td>\n",
       "    </tr>\n",
       "    <tr>\n",
       "      <th>528</th>\n",
       "      <td>2</td>\n",
       "    </tr>\n",
       "    <tr>\n",
       "      <th>302</th>\n",
       "      <td>2</td>\n",
       "    </tr>\n",
       "    <tr>\n",
       "      <th>863</th>\n",
       "      <td>4</td>\n",
       "    </tr>\n",
       "  </tbody>\n",
       "</table>\n",
       "<p>285 rows × 1 columns</p>\n",
       "</div>"
      ],
      "text/plain": [
       "      STAGE NO\n",
       "1044         4\n",
       "393          2\n",
       "1338         5\n",
       "1282         5\n",
       "141          1\n",
       "...        ...\n",
       "408          2\n",
       "1302         5\n",
       "528          2\n",
       "302          2\n",
       "863          4\n",
       "\n",
       "[285 rows x 1 columns]"
      ]
     },
     "execution_count": 65,
     "metadata": {},
     "output_type": "execute_result"
    }
   ],
   "source": [
    "#Viewing Test \n",
    "X_test"
   ]
  },
  {
   "cell_type": "code",
   "execution_count": 66,
   "metadata": {},
   "outputs": [],
   "source": [
    "#Creating Linear Regression Model \n",
    "lin_reg = LinearRegression()"
   ]
  },
  {
   "cell_type": "code",
   "execution_count": 67,
   "metadata": {},
   "outputs": [
    {
     "name": "stdout",
     "output_type": "stream",
     "text": [
      "[-13.60849036]\n",
      "[[13.76071363]]\n"
     ]
    }
   ],
   "source": [
    "# Fitting the linear regression model\n",
    "lin_reg.fit(X_train, y_train)\n",
    "# Predict the values given in test set\n",
    "predictions = lin_reg.predict(X_test)\n",
    "\n",
    "# Print the intercept and coefficients\n",
    "print(lin_reg.intercept_)\n",
    "print(lin_reg.coef_) "
   ]
  },
  {
   "cell_type": "code",
   "execution_count": 68,
   "metadata": {},
   "outputs": [
    {
     "name": "stdout",
     "output_type": "stream",
     "text": [
      "Mean Absolute Error(MAE): 5.708912405007524\n",
      "Mean Squared Error(MSE): 52.2352615663753\n",
      "Root Mean Squared Error(RMSE): 7.227396596726604\n",
      "R2-Square: 0.8783925192376948\n"
     ]
    }
   ],
   "source": [
    "# Mean absolute error\n",
    "print('Mean Absolute Error(MAE):', mean_absolute_error(y_test,predictions))  \n",
    " \n",
    "# Mean squared error\n",
    "print(\"Mean Squared Error(MSE):\", mean_squared_error(y_test, predictions))  \n",
    " \n",
    "#Root mean squared error\n",
    "print(\"Root Mean Squared Error(RMSE):\", np.sqrt(mean_squared_error(y_test, predictions)))\n",
    " \n",
    "#R2-square\n",
    "print(\"R2-Square:\",r2_score(y_test, predictions)) "
   ]
  },
  {
   "cell_type": "code",
   "execution_count": 69,
   "metadata": {},
   "outputs": [
    {
     "data": {
      "text/plain": [
       "Text(0.5, 1.0, 'LINE OF BEST FIT')"
      ]
     },
     "execution_count": 69,
     "metadata": {},
     "output_type": "execute_result"
    },
    {
     "data": {
      "image/png": "[encoded data removed]",
      "text/plain": [
       "<Figure size 432x288 with 1 Axes>"
      ]
     },
     "metadata": {
      "needs_background": "light"
     },
     "output_type": "display_data"
    }
   ],
   "source": [
    "#Visualising the model \n",
    "ax = sns.regplot(x='STAGE NO', y='DAYS', data=df) \n",
    "ax.set_title(\"LINE OF BEST FIT\")"
   ]
  },
  {
   "cell_type": "code",
   "execution_count": 70,
   "metadata": {},
   "outputs": [
    {
     "name": "stdout",
     "output_type": "stream",
     "text": [
      "[[0.15222327]]\n"
     ]
    }
   ],
   "source": [
    "#Using the model to predict number of days to complete each stage \n",
    "X_test1=[[1]]\n",
    "predictions = lin_reg.predict(X_test1)\n",
    "print(predictions)\n"
   ]
  },
  {
   "cell_type": "code",
   "execution_count": 71,
   "metadata": {},
   "outputs": [
    {
     "name": "stdout",
     "output_type": "stream",
     "text": [
      "[[13.9129369]]\n"
     ]
    }
   ],
   "source": [
    "X_test1=[[2]]\n",
    "predictions = lin_reg.predict(X_test1)\n",
    "print(predictions)\n"
   ]
  },
  {
   "cell_type": "code",
   "execution_count": 72,
   "metadata": {},
   "outputs": [
    {
     "name": "stdout",
     "output_type": "stream",
     "text": [
      "[[27.67365054]]\n"
     ]
    }
   ],
   "source": [
    "X_test1=[[3]]\n",
    "predictions = lin_reg.predict(X_test1)\n",
    "print(predictions)"
   ]
  },
  {
   "cell_type": "code",
   "execution_count": 73,
   "metadata": {},
   "outputs": [
    {
     "name": "stdout",
     "output_type": "stream",
     "text": [
      "[[41.43436417]]\n"
     ]
    }
   ],
   "source": [
    "X_test1=[[4]]\n",
    "predictions = lin_reg.predict(X_test1)\n",
    "print(predictions)"
   ]
  },
  {
   "cell_type": "code",
   "execution_count": 74,
   "metadata": {},
   "outputs": [
    {
     "name": "stdout",
     "output_type": "stream",
     "text": [
      "[[55.1950778]]\n"
     ]
    }
   ],
   "source": [
    "X_test1=[[5]]\n",
    "predictions = lin_reg.predict(X_test1)\n",
    "print(predictions)\n"
   ]
  },
  {
   "cell_type": "code",
   "execution_count": null,
   "metadata": {},
   "outputs": [],
   "source": [
    "#End"
   ]
  }
 ],
 "metadata": {
  "kernelspec": {
   "display_name": "Python 3",
   "language": "python",
   "name": "python3"
  },
  "language_info": {
   "codemirror_mode": {
    "name": "ipython",
    "version": 3
   },
   "file_extension": ".py",
   "mimetype": "text/x-python",
   "name": "python",
   "nbconvert_exporter": "python",
   "pygments_lexer": "ipython3",
   "version": "3.8.5"
  }
 },
 "nbformat": 4,
 "nbformat_minor": 4
}
