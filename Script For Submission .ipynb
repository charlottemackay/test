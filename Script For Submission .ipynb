{
 "cells": [
  {
   "cell_type": "code",
   "execution_count": 1,
   "metadata": {},
   "outputs": [],
   "source": [
    "#Libraries imported\n",
    "import pandas as pd \n",
    "import os.path \n",
    "from datetime import date"
   ]
  },
  {
   "cell_type": "code",
   "execution_count": 2,
   "metadata": {},
   "outputs": [],
   "source": [
    "#Base Class \n",
    "class Get_File: \n",
    "#Attributes of class \n",
    "    def __init__(self,Filename,Reason_For_Upload,Payment_Period): \n",
    "        self.Filename = Filename\n",
    "        self.Reason_For_Upload = Reason_For_Upload\n",
    "        self.Payment_Period= Payment_Period\n",
    "#Check file exists by searching for filename using os.path module   \n",
    "    def Check(self):\n",
    "        if os.path.isfile(self.Filename):\n",
    "            print(\"file does exist: \" + self.Filename) \n",
    "            return True\n",
    "        else:\n",
    "            print(\"File does not exist: \" + self.Filename)     \n",
    "            return False\n",
    "#Uploads excel file as dataframe. Print statement requires datetime module    \n",
    "    def Upload(self):\n",
    "        Get_Date=date.today()\n",
    "        GD=Get_Date.strftime(\"%d/%m/%y\")\n",
    "        print(\"File Uploaded on\",GD,\"for\",self.Payment_Period,\"for\",self.Reason_For_Upload)\n",
    "        return pd.read_excel(self.Filename)\n",
    "#Saves amended dataframe to excel    \n",
    "    def Save_File (self,df, Saved_Name):\n",
    "        Get_Date=date.today()\n",
    "        GD=Get_Date.strftime(\"%d/%m/%y\")\n",
    "        df.to_excel(Saved_Name,index=False)                                         \n",
    "        print(self.Saved_Name,\"successfully saved on\",GD)\n",
    "        return \n"
   ]
  },
  {
   "cell_type": "code",
   "execution_count": 3,
   "metadata": {},
   "outputs": [],
   "source": [
    "#1st Derived class: inherits attributes & functions from Get_File \n",
    "class Amend_File(Get_File): \n",
    "    def __init__(self,Filename,Reason_For_Upload,Payment_Period,Saved_Name):\n",
    "        super(Amend_File,self).__init__(Filename,Reason_For_Upload,Payment_Period)\n",
    "        self.Saved_Name = Saved_Name \n",
    "#These columns are redundant         \n",
    "    def Delete_Columns(self, df): \n",
    "        print(\"Uneccessary Columns deleted\")\n",
    "        return df.drop(['Org Ref ', 'Org ','Payment Method ', 'Payment Reference', \n",
    "        'Date FX  Rate Applied ','FX Contract No.','Fee','Payment Status','Currency Org Pays '], axis=1)   \n",
    "        print(\"FX Column renamed\")    \n",
    "#Report only included FX Rate going one way so another FX column will be added \n",
    "    def Rename_Column (self, df):\n",
    "        return df.rename(columns={'FX Rate': 'FX Rate from Foreign Currency to GBP'})\n",
    "#New column created showing FX Rate going from GBP to foreign currency     \n",
    "    def Add_Column (self,df):\n",
    "        df['FX Rate from GBP to Foreign Currency']=df.apply (lambda row: row['Currency Amount '] / row['Amount Paid By Org ']\n",
    "        , axis = 1)\n",
    "        print(\"New FX Column added\")\n",
    "        return df\n",
    "#Without doing this dates print as Datetime y/m/d/h/ in excel \n",
    "    def Change_Issued_Date(self,df): \n",
    "        df['Date Payment Issued '] = df['Date Payment Issued ' ].dt.strftime ('%d/%m/%y')\n",
    "        print (\"Issued Date format changed\")\n",
    "        return df\n",
    "    def Change_Received_Date(self,df):\n",
    "        df['Date Payment Received '] = df['Date Payment Received ' ].dt.strftime ('%d/%m/%y')\n",
    "        print(\"Received Date format changed\")\n",
    "        return df "
   ]
  },
  {
   "cell_type": "code",
   "execution_count": null,
   "metadata": {},
   "outputs": [],
   "source": [
    "#2nd Derived class: Inheriting from both Get_File & Amend_File\n",
    "class Member_Single_Month_Request(Amend_File): \n",
    "    def __init__(self,Filename,Reason_For_Upload,Payment_Period,Saved_Name,Member_Ref ):\n",
    "        super(Member_Single_Month_Request,self).__init__(Filename,Reason_For_Upload,Payment_Period,Saved_Name)\n",
    "#Added Attribute        \n",
    "        self.Member_Ref=Member_Ref \n",
    "#Functions will execute within the Extract_Member Function    \n",
    "        if super(Member_Single_Month_Request, self).Check(): \n",
    "            self.Upload=super(Member_Single_Month_Request, self).Upload() \n",
    "            self.Upload=super(Member_Single_Month_Request, self).Add_Column(self.Upload)\n",
    "            self.Upload=super(Member_Single_Month_Request, self).Change_Received_Date(self.Upload)\n",
    "#Extracting all infomation needed from file \n",
    "    def Extract_Member(self):     \n",
    "# Its very easy to get member ref wrong so did not want error meeage showing to user here  \n",
    "     try: \n",
    "            df = self.Upload \n",
    "            df = df[df['Member Ref '] == self.Member_Ref]\n",
    "            df = df[['Member Ref ', 'Member Name ','Currency', 'Currency Amount ',\n",
    "                     'FX Rate from GBP to Foreign Currency', 'Date Payment Received ']]\n",
    "            print('Dataframe created')\n",
    "            return df\n",
    "     \n",
    "     except: \n",
    "            df=None  "
   ]
  }
 ],
 "metadata": {
  "kernelspec": {
   "display_name": "Python 3",
   "language": "python",
   "name": "python3"
  },
  "language_info": {
   "codemirror_mode": {
    "name": "ipython",
    "version": 3
   },
   "file_extension": ".py",
   "mimetype": "text/x-python",
   "name": "python",
   "nbconvert_exporter": "python",
   "pygments_lexer": "ipython3",
   "version": "3.8.5"
  }
 },
 "nbformat": 4,
 "nbformat_minor": 4
}
